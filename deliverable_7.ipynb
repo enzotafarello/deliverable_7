{
 "cells": [
  {
   "cell_type": "code",
   "execution_count": 9,
   "id": "6a43c36e",
   "metadata": {},
   "outputs": [
    {
     "name": "stdout",
     "output_type": "stream",
     "text": [
      "Enter an integer value greater than zero: 9\n"
     ]
    }
   ],
   "source": [
    "import pandas as pd\n",
    "\n",
    "n = int(input('Enter an integer value greater than zero: '))\n"
   ]
  },
  {
   "cell_type": "code",
   "execution_count": 18,
   "id": "7521f59c",
   "metadata": {},
   "outputs": [
    {
     "name": "stdout",
     "output_type": "stream",
     "text": [
      "   Even  Odd  Fibonacci\n",
      "0     0    1          0\n",
      "1     2    3          1\n",
      "2     4    5          1\n",
      "3     6    7          2\n",
      "4     8    9          3\n",
      "5    10   11          5\n",
      "6    12   13          8\n",
      "7    14   15         13\n",
      "8    16   17         21\n"
     ]
    }
   ],
   "source": [
    "if n <= 0:\n",
    "    print('This input is not valid')\n",
    "else:\n",
    "    even_list = [i*2 for i in range(n)]\n",
    "    odd_list = [i*2+1 for i in range(n)]\n",
    "    fib_list = [0, 1]\n",
    "    if n > 2:\n",
    "        for i in range(2, n):\n",
    "            fib_list.append(fib_list[i-1]+fib_list[i-2])\n",
    "\n",
    "    df = pd.DataFrame({'Even': even_list, 'Odd': odd_list, 'Fibonacci': fib_list})\n",
    "    print(df)"
   ]
  }
 ],
 "metadata": {
  "kernelspec": {
   "display_name": "Python 3 (ipykernel)",
   "language": "python",
   "name": "python3"
  },
  "language_info": {
   "codemirror_mode": {
    "name": "ipython",
    "version": 3
   },
   "file_extension": ".py",
   "mimetype": "text/x-python",
   "name": "python",
   "nbconvert_exporter": "python",
   "pygments_lexer": "ipython3",
   "version": "3.9.13"
  }
 },
 "nbformat": 4,
 "nbformat_minor": 5
}
